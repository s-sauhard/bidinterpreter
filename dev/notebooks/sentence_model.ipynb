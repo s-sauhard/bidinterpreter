{
 "cells": [
  {
   "cell_type": "code",
   "execution_count": 1,
   "metadata": {},
   "outputs": [],
   "source": [
    "## Data related\n",
    "import pandas as pd, numpy as np\n",
    "\n",
    "## Data Visualization\n",
    "import matplotlib.pyplot as plt\n",
    "from cycler import cycler\n",
    "\n",
    "## Sampling and feature encoding\n",
    "from sklearn.model_selection import train_test_split\n",
    "from sklearn.feature_extraction.text import TfidfVectorizer, CountVectorizer\n",
    "from sklearn.preprocessing import LabelBinarizer, LabelEncoder\n",
    "\n",
    "## Modeling\n",
    "from sklearn.linear_model import LogisticRegressionCV, SGDClassifier\n",
    "from sklearn.naive_bayes import MultinomialNB\n",
    "from sklearn.neural_network import MLPClassifier\n",
    "from sklearn.ensemble import RandomForestClassifier\n",
    "from sklearn.pipeline import Pipeline\n",
    "\n",
    "## Evaluation\n",
    "from sklearn.metrics import classification_report\n",
    "from sklearn.metrics import roc_curve\n",
    "from sklearn.metrics import roc_auc_score\n",
    "\n",
    "%matplotlib inline"
   ]
  },
  {
   "cell_type": "markdown",
   "metadata": {},
   "source": [
    "### Load Recent Labeled Sentence Data"
   ]
  },
  {
   "cell_type": "code",
   "execution_count": 2,
   "metadata": {},
   "outputs": [],
   "source": [
    "df = pd.read_csv(\"documents_to_sentences_labeled-09-04-2020.csv\")"
   ]
  },
  {
   "cell_type": "markdown",
   "metadata": {},
   "source": [
    "### Check Class Balance\n",
    "\n",
    "Based on 19k sentences, the largest class is only a mere 500-ish observations in comparison (only 2%).  This is a very unbalanced dataset so we may need to employ some methods to control for the dominance of non-label sentences."
   ]
  },
  {
   "cell_type": "code",
   "execution_count": 3,
   "metadata": {},
   "outputs": [
    {
     "data": {
      "text/plain": [
       "array([[9, 0,\n",
       "        '010 400 Divisadero SHAC LOI 09.10.18.pdf.png.processed.pdf',\n",
       "        'Purchase Price: Thirty—Three Million Five Hundred Thousand Dollars ($33, 500,000.00) to be paid ALL CASH at the close of escrow.',\n",
       "        'purchase_price']], dtype=object)"
      ]
     },
     "execution_count": 3,
     "metadata": {},
     "output_type": "execute_result"
    }
   ],
   "source": [
    "df.head(10).tail(1).values"
   ]
  },
  {
   "cell_type": "code",
   "execution_count": 4,
   "metadata": {},
   "outputs": [
    {
     "data": {
      "text/plain": [
       "<AxesSubplot:title={'center':'Total sentences by label (of 19767)'}>"
      ]
     },
     "execution_count": 4,
     "metadata": {},
     "output_type": "execute_result"
    },
    {
     "data": {
      "image/png": "[encoded data removed]",
      "text/plain": [
       "<Figure size 432x288 with 1 Axes>"
      ]
     },
     "metadata": {
      "needs_background": "light"
     },
     "output_type": "display_data"
    }
   ],
   "source": [
    "df['target_class'].value_counts().sort_values().plot(kind=\"barh\", title = f\"Total sentences by label (of {df.shape[0]})\")"
   ]
  },
  {
   "cell_type": "code",
   "execution_count": 7,
   "metadata": {},
   "outputs": [
    {
     "data": {
      "text/plain": [
       "none              0.942783\n",
       "deposit           0.026256\n",
       "purchase_price    0.016796\n",
       "closing           0.007538\n",
       "dd                0.006627\n",
       "Name: target_class, dtype: float64"
      ]
     },
     "execution_count": 7,
     "metadata": {},
     "output_type": "execute_result"
    }
   ],
   "source": [
    "total = df.shape[0]\n",
    "df['target_class'].value_counts() / total"
   ]
  },
  {
   "cell_type": "markdown",
   "metadata": {},
   "source": [
    "### Encode NaN Classes\n",
    "Null target_class values essentially mean \"no class\" but our ML library doesn't know how to ingest those values.  So we will set them to \"none\"."
   ]
  },
  {
   "cell_type": "code",
   "execution_count": 8,
   "metadata": {},
   "outputs": [],
   "source": [
    "df['target_class'] = df['target_class'].fillna(\"none\")"
   ]
  },
  {
   "cell_type": "markdown",
   "metadata": {},
   "source": [
    "### Encode Targets to Numeric"
   ]
  },
  {
   "cell_type": "code",
   "execution_count": 9,
   "metadata": {},
   "outputs": [],
   "source": [
    "encoder = LabelEncoder()\n",
    "y_encoded = encoder.fit_transform(df['target_class'])"
   ]
  },
  {
   "cell_type": "code",
   "execution_count": 10,
   "metadata": {},
   "outputs": [
    {
     "data": {
      "text/plain": [
       "array(['closing', 'dd', 'deposit', 'none', 'purchase_price'], dtype=object)"
      ]
     },
     "execution_count": 10,
     "metadata": {},
     "output_type": "execute_result"
    }
   ],
   "source": [
    "encoder.classes_"
   ]
  },
  {
   "cell_type": "markdown",
   "metadata": {},
   "source": [
    "### Sample Data\n",
    "\n",
    "This is a somewhat imablanced dataset meaning there are more non-labled sentences than there are sentences which have labels.  We may need to tune this side of our modeling process iteratively to improve results."
   ]
  },
  {
   "cell_type": "code",
   "execution_count": 11,
   "metadata": {},
   "outputs": [],
   "source": [
    "X_train, X_test, y_train, y_test = train_test_split(df[['sentence']], y_encoded, test_size = .3)"
   ]
  },
  {
   "cell_type": "markdown",
   "metadata": {},
   "source": [
    "### Custom Sentence Vectorizer for Pipeline\n",
    "\n",
    "This particular step is necessary post-modeling for new data to be treated as \"sentences\" rather than an entire document."
   ]
  },
  {
   "cell_type": "code",
   "execution_count": 103,
   "metadata": {},
   "outputs": [
    {
     "data": {
      "text/plain": [
       "array(['SUMMERHILL .', '.',\n",
       "       'COMMUNITIES OF DISTINCTION September 10, 2018 Mr. Brett Betzler Moran & Company 2 Embarcadero Center, 8th Floor San Francisco, CA 94111 Letter of Intent for the Purchase of Ammption and Assignment of PSA of approximately 0.94 acres located at 400 Divisadero El Camino Real., City of San Francisco, County of San Francisco (the \" Property\") Dear Brett: SummerHill Housing Apartment Communities (\"Buyer\" or “SummerHill\") is pleased to present this Letter of Intent to enter into a contract of sale with the Genesis Real Estate Group (\"Seller”) for the Assumption and Assignment of PSA of the above-referenced Property, consisting of approximately 0.94 acres in San Francisco.',\n",
       "       ..., 'Mark H. Stem Senior Vice President.',\n",
       "       'Acquisitions Accepted and agreed to this day of , 2012.',\n",
       "       'Seller: By ——————— Its Page 5 of5 4:'], dtype=object)"
      ]
     },
     "execution_count": 103,
     "metadata": {},
     "output_type": "execute_result"
    }
   ],
   "source": [
    "df['sentence'].values"
   ]
  },
  {
   "cell_type": "code",
   "execution_count": 105,
   "metadata": {},
   "outputs": [
    {
     "data": {
      "text/html": [
       "<div>\n",
       "<style scoped>\n",
       "    .dataframe tbody tr th:only-of-type {\n",
       "        vertical-align: middle;\n",
       "    }\n",
       "\n",
       "    .dataframe tbody tr th {\n",
       "        vertical-align: top;\n",
       "    }\n",
       "\n",
       "    .dataframe thead th {\n",
       "        text-align: right;\n",
       "    }\n",
       "</style>\n",
       "<table border=\"1\" class=\"dataframe\">\n",
       "  <thead>\n",
       "    <tr style=\"text-align: right;\">\n",
       "      <th></th>\n",
       "      <th>document</th>\n",
       "      <th>text</th>\n",
       "    </tr>\n",
       "  </thead>\n",
       "  <tbody>\n",
       "    <tr>\n",
       "      <th>0</th>\n",
       "      <td>doc1</td>\n",
       "      <td>LETTER OF INTENT 4/11/2019 Submitted via email...</td>\n",
       "    </tr>\n",
       "    <tr>\n",
       "      <th>1</th>\n",
       "      <td>doc2</td>\n",
       "      <td>LETTER OF INTENT 4/11/2019 Submitted via email...</td>\n",
       "    </tr>\n",
       "    <tr>\n",
       "      <th>2</th>\n",
       "      <td>doc3</td>\n",
       "      <td>LETTER OF INTENT 4/11/2019 Submitted via email...</td>\n",
       "    </tr>\n",
       "  </tbody>\n",
       "</table>\n",
       "</div>"
      ],
      "text/plain": [
       "  document                                               text\n",
       "0     doc1  LETTER OF INTENT 4/11/2019 Submitted via email...\n",
       "1     doc2  LETTER OF INTENT 4/11/2019 Submitted via email...\n",
       "2     doc3  LETTER OF INTENT 4/11/2019 Submitted via email..."
      ]
     },
     "execution_count": 105,
     "metadata": {},
     "output_type": "execute_result"
    }
   ],
   "source": [
    "test_raw = [\n",
    "    (\"doc1\", \"\"\"LETTER OF INTENT 4/11/2019 Submitted via email To: Kaohu Berg-Hee Dear Mr. Berg-Hee: Interstate Equities Corporation (the “Buyer”) is pleased to set forth certain terms and conditions upon which we would negotiate the purchase of the herein referenced Property from the Owner of Record (the “Seller’). This Letter of Intent summarizes the basis upon which Purchaser would be willing to enter into a binding contract (the “Purchase Agreement”) to acquire the Property. 1. Property Address: Courtyards at 65th Street 1465 65th Street Emeryville, CA 94608 Consisting of 331 legal units 2. Purchase Price: Purchaser will purchase the Property(s) for $172,000,000 payable in cash at the Closing as hereinafter defined. 3. Purchase Agreement: Purchaser shall prepare a contract and submit it for approval within five (5) days after execution of this Letter of Intent. 4. Earnest Money Deposit: Within five (5) business days after the full execution of the Purchase Agreement, Purchaser shall deposit with First American Title (the “Escrow Company”) as escrow agent, $5,160,000 to be held by such agent pending the Closing. 5. Title: Title to the Property shall be conveyed by Seller to Purchaser or affiliate at the closing by Grant Deed, free and clear of all liens and encumbrances, subject only to such exceptions as may be approved by Purchaser. Title services shall be provided by First American Title Company. 6. Physical Contingency: Purchaser shall have twenty-five (25) day Inspection Period from the effective date of the execution of the Purchase Agreement and receipt of due diligence documents to determine the suitability of the Property for purchase. Seller shall grant Purchaser and its agents a right of entry on the Property to obtain appraisals and to perform engineering and environmental tests and such other studies necessary in connection with Purchaser’s evaluation of the Property. In addition, Purchaser shall review zoning and other governmental regulations affecting the Property. In the event Purchaser determines that the Property are not suitable for purchase, in its sole and absolute discretion, the Purchase Agreement will terminate, the Earnest Money will be returned to Purchaser and the parties will have no further obligations to one another. Page 1 of 3 In order to facilitate Purchaser’s due diligence investigation and analysis, Seller agrees to furnish to Purchaser within five (5) business days after Seller’s Execution of this Letter of Intent all documents, records and other information in its possession or accessible, relating to the Property, including but not limited to, the following: a Preliminary title report with all underlying documents, dated no earlier than the date of this Letter of Intent; b Current as-built plans and survey with legal description if in possession of owner; c) Real estate tax bills for the prior three years with complete files on any pending proceedings; d Leases, service contracts and other agreements; e Current and previous environmental, asbestos, engineering or other physical reports in Seller’s possession, as well as an explanation of remediation work performed; f) Any appraisals of the Property; g Property operating statements for the prior three full years and current year to date, including utility bills for the same periods; h A current rent roll including concessions, lease expiration, delinquency, security deposits and tenant complaints; i) Copies of all licenses, building permits and certificates of occupancy, a zoning compliance letter, and any amendments; j) Personal property inventory; k) Complete files on any pending or threatened litigation at or affecting the Property; l) Copies of any rental restrictions and their termination dates, indentures, regulatory agreements, compliance letters, and bond documents; m) List of employees and payroll information. Ts Closing: The Closing of the purchase shall occur thirty-five (35) days after satisfaction of Buyer’s contingencies with the recoding of a grant deed from Seller to Purchaser. 8. Closing Costs: Transfer tax, Escrow and Title fees shall be paid in accordance with county custom. Each party will pay its own legal fees. 9. Confidentiality: Except as required by law, Purchaser and Seller hereby agree to maintain the confidentiality, other than to their affiliates’, officers, employees, advisors, agents, lenders and consultants, of all information exchanged that is not public information, as well as the fact that Purchaser has made this offer and the terms and conditions herein. 10. Expression of Intent: With the exception of paragraph 11 (Governing Law) below and this paragraph 10, this letter is not intended to be binding and will not give rise to any right or obligation based on any theory, whether legal, equitable or otherwise (including any right to continue negotiations), it being agreed that only a subsequent formal written contract, if executed and delivered by both parties, will bind the parties as to any matter (other than paragraph 11 and this paragraph 10, which are intended to be binding). Page 2 of 3 11. Governing Law: This letter shall be given effect and construed by application of the laws of the state of California (without regard to the principles thereof governing conflicts of laws), and any action or proceeding arising hereunder shall only be brought in the courts of the state of California or in a United States district court sitting in the state of California. The parties both consent to the jurisdiction of the courts of the state of California and/or a United States district court sitting in the state of California. The parties agree that monetary damages may not alone be sufficient to remedy any breach by any party of any term or provision of this letter. Accordingly, the parties acknowledge that remedies at law may be inadequate to protect against breach of this letter and the parties hereby agree in advance to the granting of equitable relief, including injunction and specific performance, without proof of actual damages, in the event of any breach hereof. Such remedies shall not be deemed to be the exclusive remedies for a breach of this letter but shall be in addition to all other remedies available at law or equity. In the event of litigation relating to this letter, if a court of competent jurisdiction determines that any party, or its directors, officers, partners, members, employees or agents have breached this letter then the breaching party shall be liable and pay to the non-breaching party the reasonable legal fees incurred by the non- breaching party in connection with such litigation, including an appeal therefrom. 12. Notice: All notices to Purchaser shall be addressed as follows: Interstate Equities Corporation 4970 El Camino Real #220 Los Altos, CA. 94022 Attention: Marshall Boyd The terms and provisions set forth in this Letter of Intent, together with other terms and provisions relating to this transaction, shall be set forth more completely in the Purchase Agreement and each party hereby agrees to diligently proceed with the negotiation, preparation and execution of such an agreement. If these terms are agreeable, please execute your acceptance below. In the event Purchaser does not receive a copy of this Letter of Intent signed by Seller within 5 days of its date, it shall be deemed null and void. Sincerely, : 04/11/2019 President ACCEPTED AND AGREED TO this day of , 2019: By: Title: Page 3 of 3 \"\"\"),\n",
    "    (\"doc2\", \"\"\"LETTER OF INTENT 4/11/2019 Submitted via email To: Kaohu Berg-Hee Dear Mr. Berg-Hee: Interstate Equities Corporation (the “Buyer”) is pleased to set forth certain terms and conditions upon which we would negotiate the purchase of the herein referenced Property from the Owner of Record (the “Seller’). This Letter of Intent summarizes the basis upon which Purchaser would be willing to enter into a binding contract (the “Purchase Agreement”) to acquire the Property. 1. Property Address: Courtyards at 65th Street 1465 65th Street Emeryville, CA 94608 Consisting of 331 legal units 2. Purchase Price: Purchaser will purchase the Property(s) for $172,000,000 payable in cash at the Closing as hereinafter defined. 3. Purchase Agreement: Purchaser shall prepare a contract and submit it for approval within five (5) days after execution of this Letter of Intent. 4. Earnest Money Deposit: Within five (5) business days after the full execution of the Purchase Agreement, Purchaser shall deposit with First American Title (the “Escrow Company”) as escrow agent, $5,160,000 to be held by such agent pending the Closing. 5. Title: Title to the Property shall be conveyed by Seller to Purchaser or affiliate at the closing by Grant Deed, free and clear of all liens and encumbrances, subject only to such exceptions as may be approved by Purchaser. Title services shall be provided by First American Title Company. 6. Physical Contingency: Purchaser shall have twenty-five (25) day Inspection Period from the effective date of the execution of the Purchase Agreement and receipt of due diligence documents to determine the suitability of the Property for purchase. Seller shall grant Purchaser and its agents a right of entry on the Property to obtain appraisals and to perform engineering and environmental tests and such other studies necessary in connection with Purchaser’s evaluation of the Property. In addition, Purchaser shall review zoning and other governmental regulations affecting the Property. In the event Purchaser determines that the Property are not suitable for purchase, in its sole and absolute discretion, the Purchase Agreement will terminate, the Earnest Money will be returned to Purchaser and the parties will have no further obligations to one another. Page 1 of 3 In order to facilitate Purchaser’s due diligence investigation and analysis, Seller agrees to furnish to Purchaser within five (5) business days after Seller’s Execution of this Letter of Intent all documents, records and other information in its possession or accessible, relating to the Property, including but not limited to, the following: a Preliminary title report with all underlying documents, dated no earlier than the date of this Letter of Intent; b Current as-built plans and survey with legal description if in possession of owner; c) Real estate tax bills for the prior three years with complete files on any pending proceedings; d Leases, service contracts and other agreements; e Current and previous environmental, asbestos, engineering or other physical reports in Seller’s possession, as well as an explanation of remediation work performed; f) Any appraisals of the Property; g Property operating statements for the prior three full years and current year to date, including utility bills for the same periods; h A current rent roll including concessions, lease expiration, delinquency, security deposits and tenant complaints; i) Copies of all licenses, building permits and certificates of occupancy, a zoning compliance letter, and any amendments; j) Personal property inventory; k) Complete files on any pending or threatened litigation at or affecting the Property; l) Copies of any rental restrictions and their termination dates, indentures, regulatory agreements, compliance letters, and bond documents; m) List of employees and payroll information. Ts Closing: The Closing of the purchase shall occur thirty-five (35) days after satisfaction of Buyer’s contingencies with the recoding of a grant deed from Seller to Purchaser. 8. Closing Costs: Transfer tax, Escrow and Title fees shall be paid in accordance with county custom. Each party will pay its own legal fees. 9. Confidentiality: Except as required by law, Purchaser and Seller hereby agree to maintain the confidentiality, other than to their affiliates’, officers, employees, advisors, agents, lenders and consultants, of all information exchanged that is not public information, as well as the fact that Purchaser has made this offer and the terms and conditions herein. 10. Expression of Intent: With the exception of paragraph 11 (Governing Law) below and this paragraph 10, this letter is not intended to be binding and will not give rise to any right or obligation based on any theory, whether legal, equitable or otherwise (including any right to continue negotiations), it being agreed that only a subsequent formal written contract, if executed and delivered by both parties, will bind the parties as to any matter (other than paragraph 11 and this paragraph 10, which are intended to be binding). Page 2 of 3 11. Governing Law: This letter shall be given effect and construed by application of the laws of the state of California (without regard to the principles thereof governing conflicts of laws), and any action or proceeding arising hereunder shall only be brought in the courts of the state of California or in a United States district court sitting in the state of California. The parties both consent to the jurisdiction of the courts of the state of California and/or a United States district court sitting in the state of California. The parties agree that monetary damages may not alone be sufficient to remedy any breach by any party of any term or provision of this letter. Accordingly, the parties acknowledge that remedies at law may be inadequate to protect against breach of this letter and the parties hereby agree in advance to the granting of equitable relief, including injunction and specific performance, without proof of actual damages, in the event of any breach hereof. Such remedies shall not be deemed to be the exclusive remedies for a breach of this letter but shall be in addition to all other remedies available at law or equity. In the event of litigation relating to this letter, if a court of competent jurisdiction determines that any party, or its directors, officers, partners, members, employees or agents have breached this letter then the breaching party shall be liable and pay to the non-breaching party the reasonable legal fees incurred by the non- breaching party in connection with such litigation, including an appeal therefrom. 12. Notice: All notices to Purchaser shall be addressed as follows: Interstate Equities Corporation 4970 El Camino Real #220 Los Altos, CA. 94022 Attention: Marshall Boyd The terms and provisions set forth in this Letter of Intent, together with other terms and provisions relating to this transaction, shall be set forth more completely in the Purchase Agreement and each party hereby agrees to diligently proceed with the negotiation, preparation and execution of such an agreement. If these terms are agreeable, please execute your acceptance below. In the event Purchaser does not receive a copy of this Letter of Intent signed by Seller within 5 days of its date, it shall be deemed null and void. Sincerely, : 04/11/2019 President ACCEPTED AND AGREED TO this day of , 2019: By: Title: Page 3 of 3 \"\"\"),\n",
    "    (\"doc3\", \"\"\"LETTER OF INTENT 4/11/2019 Submitted via email To: Kaohu Berg-Hee Dear Mr. Berg-Hee: Interstate Equities Corporation (the “Buyer”) is pleased to set forth certain terms and conditions upon which we would negotiate the purchase of the herein referenced Property from the Owner of Record (the “Seller’). This Letter of Intent summarizes the basis upon which Purchaser would be willing to enter into a binding contract (the “Purchase Agreement”) to acquire the Property. 1. Property Address: Courtyards at 65th Street 1465 65th Street Emeryville, CA 94608 Consisting of 331 legal units 2. Purchase Price: Purchaser will purchase the Property(s) for $172,000,000 payable in cash at the Closing as hereinafter defined. 3. Purchase Agreement: Purchaser shall prepare a contract and submit it for approval within five (5) days after execution of this Letter of Intent. 4. Earnest Money Deposit: Within five (5) business days after the full execution of the Purchase Agreement, Purchaser shall deposit with First American Title (the “Escrow Company”) as escrow agent, $5,160,000 to be held by such agent pending the Closing. 5. Title: Title to the Property shall be conveyed by Seller to Purchaser or affiliate at the closing by Grant Deed, free and clear of all liens and encumbrances, subject only to such exceptions as may be approved by Purchaser. Title services shall be provided by First American Title Company. 6. Physical Contingency: Purchaser shall have twenty-five (25) day Inspection Period from the effective date of the execution of the Purchase Agreement and receipt of due diligence documents to determine the suitability of the Property for purchase. Seller shall grant Purchaser and its agents a right of entry on the Property to obtain appraisals and to perform engineering and environmental tests and such other studies necessary in connection with Purchaser’s evaluation of the Property. In addition, Purchaser shall review zoning and other governmental regulations affecting the Property. In the event Purchaser determines that the Property are not suitable for purchase, in its sole and absolute discretion, the Purchase Agreement will terminate, the Earnest Money will be returned to Purchaser and the parties will have no further obligations to one another. Page 1 of 3 In order to facilitate Purchaser’s due diligence investigation and analysis, Seller agrees to furnish to Purchaser within five (5) business days after Seller’s Execution of this Letter of Intent all documents, records and other information in its possession or accessible, relating to the Property, including but not limited to, the following: a Preliminary title report with all underlying documents, dated no earlier than the date of this Letter of Intent; b Current as-built plans and survey with legal description if in possession of owner; c) Real estate tax bills for the prior three years with complete files on any pending proceedings; d Leases, service contracts and other agreements; e Current and previous environmental, asbestos, engineering or other physical reports in Seller’s possession, as well as an explanation of remediation work performed; f) Any appraisals of the Property; g Property operating statements for the prior three full years and current year to date, including utility bills for the same periods; h A current rent roll including concessions, lease expiration, delinquency, security deposits and tenant complaints; i) Copies of all licenses, building permits and certificates of occupancy, a zoning compliance letter, and any amendments; j) Personal property inventory; k) Complete files on any pending or threatened litigation at or affecting the Property; l) Copies of any rental restrictions and their termination dates, indentures, regulatory agreements, compliance letters, and bond documents; m) List of employees and payroll information. Ts Closing: The Closing of the purchase shall occur thirty-five (35) days after satisfaction of Buyer’s contingencies with the recoding of a grant deed from Seller to Purchaser. 8. Closing Costs: Transfer tax, Escrow and Title fees shall be paid in accordance with county custom. Each party will pay its own legal fees. 9. Confidentiality: Except as required by law, Purchaser and Seller hereby agree to maintain the confidentiality, other than to their affiliates’, officers, employees, advisors, agents, lenders and consultants, of all information exchanged that is not public information, as well as the fact that Purchaser has made this offer and the terms and conditions herein. 10. Expression of Intent: With the exception of paragraph 11 (Governing Law) below and this paragraph 10, this letter is not intended to be binding and will not give rise to any right or obligation based on any theory, whether legal, equitable or otherwise (including any right to continue negotiations), it being agreed that only a subsequent formal written contract, if executed and delivered by both parties, will bind the parties as to any matter (other than paragraph 11 and this paragraph 10, which are intended to be binding). Page 2 of 3 11. Governing Law: This letter shall be given effect and construed by application of the laws of the state of California (without regard to the principles thereof governing conflicts of laws), and any action or proceeding arising hereunder shall only be brought in the courts of the state of California or in a United States district court sitting in the state of California. The parties both consent to the jurisdiction of the courts of the state of California and/or a United States district court sitting in the state of California. The parties agree that monetary damages may not alone be sufficient to remedy any breach by any party of any term or provision of this letter. Accordingly, the parties acknowledge that remedies at law may be inadequate to protect against breach of this letter and the parties hereby agree in advance to the granting of equitable relief, including injunction and specific performance, without proof of actual damages, in the event of any breach hereof. Such remedies shall not be deemed to be the exclusive remedies for a breach of this letter but shall be in addition to all other remedies available at law or equity. In the event of litigation relating to this letter, if a court of competent jurisdiction determines that any party, or its directors, officers, partners, members, employees or agents have breached this letter then the breaching party shall be liable and pay to the non-breaching party the reasonable legal fees incurred by the non- breaching party in connection with such litigation, including an appeal therefrom. 12. Notice: All notices to Purchaser shall be addressed as follows: Interstate Equities Corporation 4970 El Camino Real #220 Los Altos, CA. 94022 Attention: Marshall Boyd The terms and provisions set forth in this Letter of Intent, together with other terms and provisions relating to this transaction, shall be set forth more completely in the Purchase Agreement and each party hereby agrees to diligently proceed with the negotiation, preparation and execution of such an agreement. If these terms are agreeable, please execute your acceptance below. In the event Purchaser does not receive a copy of this Letter of Intent signed by Seller within 5 days of its date, it shall be deemed null and void. Sincerely, : 04/11/2019 President ACCEPTED AND AGREED TO this day of , 2019: By: Title: Page 3 of 3 \"\"\")\n",
    "]\n",
    "\n",
    "test = pd.DataFrame(test_raw, columns = [\"document\", \"text\"])\n",
    "test"
   ]
  },
  {
   "cell_type": "code",
   "execution_count": 162,
   "metadata": {},
   "outputs": [
    {
     "data": {
      "text/html": [
       "<div>\n",
       "<style scoped>\n",
       "    .dataframe tbody tr th:only-of-type {\n",
       "        vertical-align: middle;\n",
       "    }\n",
       "\n",
       "    .dataframe tbody tr th {\n",
       "        vertical-align: top;\n",
       "    }\n",
       "\n",
       "    .dataframe thead th {\n",
       "        text-align: right;\n",
       "    }\n",
       "</style>\n",
       "<table border=\"1\" class=\"dataframe\">\n",
       "  <thead>\n",
       "    <tr style=\"text-align: right;\">\n",
       "      <th></th>\n",
       "      <th>sentence</th>\n",
       "    </tr>\n",
       "    <tr>\n",
       "      <th>document</th>\n",
       "      <th></th>\n",
       "    </tr>\n",
       "  </thead>\n",
       "  <tbody>\n",
       "    <tr>\n",
       "      <th>doc1</th>\n",
       "      <td>LETTER OF INTENT 4/11/2019 Submitted via email...</td>\n",
       "    </tr>\n",
       "    <tr>\n",
       "      <th>doc1</th>\n",
       "      <td>This Letter of Intent summarizes the basis upo...</td>\n",
       "    </tr>\n",
       "    <tr>\n",
       "      <th>doc1</th>\n",
       "      <td>1.</td>\n",
       "    </tr>\n",
       "    <tr>\n",
       "      <th>doc1</th>\n",
       "      <td>Property Address: Courtyards at 65th Street 14...</td>\n",
       "    </tr>\n",
       "    <tr>\n",
       "      <th>doc1</th>\n",
       "      <td>Purchase Price: Purchaser will purchase the Pr...</td>\n",
       "    </tr>\n",
       "    <tr>\n",
       "      <th>...</th>\n",
       "      <td>...</td>\n",
       "    </tr>\n",
       "    <tr>\n",
       "      <th>doc3</th>\n",
       "      <td>Notice: All notices to Purchaser shall be addr...</td>\n",
       "    </tr>\n",
       "    <tr>\n",
       "      <th>doc3</th>\n",
       "      <td>94022 Attention: Marshall Boyd The terms and p...</td>\n",
       "    </tr>\n",
       "    <tr>\n",
       "      <th>doc3</th>\n",
       "      <td>If these terms are agreeable, please execute y...</td>\n",
       "    </tr>\n",
       "    <tr>\n",
       "      <th>doc3</th>\n",
       "      <td>In the event Purchaser does not receive a copy...</td>\n",
       "    </tr>\n",
       "    <tr>\n",
       "      <th>doc3</th>\n",
       "      <td>Sincerely, : 04/11/2019 President ACCEPTED AND...</td>\n",
       "    </tr>\n",
       "  </tbody>\n",
       "</table>\n",
       "<p>117 rows × 1 columns</p>\n",
       "</div>"
      ],
      "text/plain": [
       "                                                   sentence\n",
       "document                                                   \n",
       "doc1      LETTER OF INTENT 4/11/2019 Submitted via email...\n",
       "doc1      This Letter of Intent summarizes the basis upo...\n",
       "doc1                                                     1.\n",
       "doc1      Property Address: Courtyards at 65th Street 14...\n",
       "doc1      Purchase Price: Purchaser will purchase the Pr...\n",
       "...                                                     ...\n",
       "doc3      Notice: All notices to Purchaser shall be addr...\n",
       "doc3      94022 Attention: Marshall Boyd The terms and p...\n",
       "doc3      If these terms are agreeable, please execute y...\n",
       "doc3      In the event Purchaser does not receive a copy...\n",
       "doc3      Sincerely, : 04/11/2019 President ACCEPTED AND...\n",
       "\n",
       "[117 rows x 1 columns]"
      ]
     },
     "execution_count": 162,
     "metadata": {},
     "output_type": "execute_result"
    }
   ],
   "source": [
    "doc_sentences = []\n",
    "for index, document, text in test.to_records():\n",
    "    for sentence in nltk.sent_tokenize(text):\n",
    "        doc_sentences.append((document, sentence))\n",
    "    \n",
    "pd.DataFrame(doc_sentences, columns = ['document', 'sentence']).set_index('document')"
   ]
  },
  {
   "cell_type": "code",
   "execution_count": 167,
   "metadata": {},
   "outputs": [
    {
     "data": {
      "text/plain": [
       "True"
      ]
     },
     "execution_count": 167,
     "metadata": {},
     "output_type": "execute_result"
    }
   ],
   "source": [
    "type(test) == "
   ]
  },
  {
   "cell_type": "code",
   "execution_count": 194,
   "metadata": {},
   "outputs": [
    {
     "data": {
      "text/plain": [
       "[{'sentence': 'LETTER OF INTENT 4/11/2019 Submitted via email To: Kaohu Berg-Hee Dear Mr. Berg-Hee: Interstate Equities Corporation (the “Buyer”) is pleased to set forth certain terms and conditions upon which we would negotiate the purchase of the herein referenced Property from the Owner of Record (the “Seller’).',\n",
       "  'y_hat': [0.0, 0.0, 0.0, 1.0, 0.0]},\n",
       " {'sentence': 'This Letter of Intent summarizes the basis upon which Purchaser would be willing to enter into a binding contract (the “Purchase Agreement”) to acquire the Property.',\n",
       "  'y_hat': [0.0, 0.0, 0.0, 1.0, 0.0]},\n",
       " {'sentence': '1.', 'y_hat': [0.0, 0.0, 0.0, 1.0, 0.0]},\n",
       " {'sentence': 'Property Address: Courtyards at 65th Street 1465 65th Street Emeryville, CA 94608 Consisting of 331 legal units 2.',\n",
       "  'y_hat': [0.0, 0.0, 0.0, 1.0, 0.0]},\n",
       " {'sentence': 'Purchase Price: Purchaser will purchase the Property(s) for $172,000,000 payable in cash at the Closing as hereinafter defined.',\n",
       "  'y_hat': [0.0, 0.0, 0.0, 0.0, 1.0]},\n",
       " {'sentence': '3.', 'y_hat': [0.0, 0.0, 0.0, 1.0, 0.0]},\n",
       " {'sentence': 'Purchase Agreement: Purchaser shall prepare a contract and submit it for approval within five (5) days after execution of this Letter of Intent.',\n",
       "  'y_hat': [0.0, 0.0, 0.0, 1.0, 0.0]},\n",
       " {'sentence': '4.', 'y_hat': [0.0, 0.0, 0.0, 1.0, 0.0]},\n",
       " {'sentence': 'Earnest Money Deposit: Within five (5) business days after the full execution of the Purchase Agreement, Purchaser shall deposit with First American Title (the “Escrow Company”) as escrow agent, $5,160,000 to be held by such agent pending the Closing.',\n",
       "  'y_hat': [0.0, 0.0, 0.999, 0.001, 0.0]},\n",
       " {'sentence': '5.', 'y_hat': [0.0, 0.0, 0.0, 1.0, 0.0]},\n",
       " {'sentence': 'Title: Title to the Property shall be conveyed by Seller to Purchaser or affiliate at the closing by Grant Deed, free and clear of all liens and encumbrances, subject only to such exceptions as may be approved by Purchaser.',\n",
       "  'y_hat': [0.0, 0.0, 0.0, 1.0, 0.0]},\n",
       " {'sentence': 'Title services shall be provided by First American Title Company.',\n",
       "  'y_hat': [0.0, 0.0, 0.0, 1.0, 0.0]},\n",
       " {'sentence': '6.', 'y_hat': [0.0, 0.0, 0.0, 1.0, 0.0]},\n",
       " {'sentence': 'Physical Contingency: Purchaser shall have twenty-five (25) day Inspection Period from the effective date of the execution of the Purchase Agreement and receipt of due diligence documents to determine the suitability of the Property for purchase.',\n",
       "  'y_hat': [0.0, 0.0, 0.0, 1.0, 0.0]},\n",
       " {'sentence': 'Seller shall grant Purchaser and its agents a right of entry on the Property to obtain appraisals and to perform engineering and environmental tests and such other studies necessary in connection with Purchaser’s evaluation of the Property.',\n",
       "  'y_hat': [0.0, 0.0, 0.0, 1.0, 0.0]},\n",
       " {'sentence': 'In addition, Purchaser shall review zoning and other governmental regulations affecting the Property.',\n",
       "  'y_hat': [0.0, 0.0, 0.0, 1.0, 0.0]},\n",
       " {'sentence': 'In the event Purchaser determines that the Property are not suitable for purchase, in its sole and absolute discretion, the Purchase Agreement will terminate, the Earnest Money will be returned to Purchaser and the parties will have no further obligations to one another.',\n",
       "  'y_hat': [0.0, 0.0, 0.0, 1.0, 0.0]},\n",
       " {'sentence': 'Page 1 of 3 In order to facilitate Purchaser’s due diligence investigation and analysis, Seller agrees to furnish to Purchaser within five (5) business days after Seller’s Execution of this Letter of Intent all documents, records and other information in its possession or accessible, relating to the Property, including but not limited to, the following: a Preliminary title report with all underlying documents, dated no earlier than the date of this Letter of Intent; b Current as-built plans and survey with legal description if in possession of owner; c) Real estate tax bills for the prior three years with complete files on any pending proceedings; d Leases, service contracts and other agreements; e Current and previous environmental, asbestos, engineering or other physical reports in Seller’s possession, as well as an explanation of remediation work performed; f) Any appraisals of the Property; g Property operating statements for the prior three full years and current year to date, including utility bills for the same periods; h A current rent roll including concessions, lease expiration, delinquency, security deposits and tenant complaints; i) Copies of all licenses, building permits and certificates of occupancy, a zoning compliance letter, and any amendments; j) Personal property inventory; k) Complete files on any pending or threatened litigation at or affecting the Property; l) Copies of any rental restrictions and their termination dates, indentures, regulatory agreements, compliance letters, and bond documents; m) List of employees and payroll information.',\n",
       "  'y_hat': [0.0, 1.0, 0.0, 0.0, 0.0]},\n",
       " {'sentence': 'Ts Closing: The Closing of the purchase shall occur thirty-five (35) days after satisfaction of Buyer’s contingencies with the recoding of a grant deed from Seller to Purchaser.',\n",
       "  'y_hat': [0.0, 0.0, 0.0, 1.0, 0.0]},\n",
       " {'sentence': '8.', 'y_hat': [0.0, 0.0, 0.0, 1.0, 0.0]},\n",
       " {'sentence': 'Closing Costs: Transfer tax, Escrow and Title fees shall be paid in accordance with county custom.',\n",
       "  'y_hat': [0.0, 0.0, 0.0, 1.0, 0.0]},\n",
       " {'sentence': 'Each party will pay its own legal fees.',\n",
       "  'y_hat': [0.0, 0.0, 0.0, 1.0, 0.0]},\n",
       " {'sentence': '9.', 'y_hat': [0.0, 0.0, 0.0, 1.0, 0.0]},\n",
       " {'sentence': 'Confidentiality: Except as required by law, Purchaser and Seller hereby agree to maintain the confidentiality, other than to their affiliates’, officers, employees, advisors, agents, lenders and consultants, of all information exchanged that is not public information, as well as the fact that Purchaser has made this offer and the terms and conditions herein.',\n",
       "  'y_hat': [0.0, 0.0, 0.0, 1.0, 0.0]},\n",
       " {'sentence': '10.', 'y_hat': [0.0, 0.0, 0.0, 1.0, 0.0]},\n",
       " {'sentence': 'Expression of Intent: With the exception of paragraph 11 (Governing Law) below and this paragraph 10, this letter is not intended to be binding and will not give rise to any right or obligation based on any theory, whether legal, equitable or otherwise (including any right to continue negotiations), it being agreed that only a subsequent formal written contract, if executed and delivered by both parties, will bind the parties as to any matter (other than paragraph 11 and this paragraph 10, which are intended to be binding).',\n",
       "  'y_hat': [0.0, 0.0, 0.0, 1.0, 0.0]},\n",
       " {'sentence': 'Page 2 of 3 11.', 'y_hat': [0.0, 0.0, 0.0, 1.0, 0.0]},\n",
       " {'sentence': 'Governing Law: This letter shall be given effect and construed by application of the laws of the state of California (without regard to the principles thereof governing conflicts of laws), and any action or proceeding arising hereunder shall only be brought in the courts of the state of California or in a United States district court sitting in the state of California.',\n",
       "  'y_hat': [0.0, 0.0, 0.0, 1.0, 0.0]},\n",
       " {'sentence': 'The parties both consent to the jurisdiction of the courts of the state of California and/or a United States district court sitting in the state of California.',\n",
       "  'y_hat': [0.0, 0.0, 0.0, 1.0, 0.0]},\n",
       " {'sentence': 'The parties agree that monetary damages may not alone be sufficient to remedy any breach by any party of any term or provision of this letter.',\n",
       "  'y_hat': [0.0, 0.0, 0.0, 1.0, 0.0]},\n",
       " {'sentence': 'Accordingly, the parties acknowledge that remedies at law may be inadequate to protect against breach of this letter and the parties hereby agree in advance to the granting of equitable relief, including injunction and specific performance, without proof of actual damages, in the event of any breach hereof.',\n",
       "  'y_hat': [0.0, 0.0, 0.0, 1.0, 0.0]},\n",
       " {'sentence': 'Such remedies shall not be deemed to be the exclusive remedies for a breach of this letter but shall be in addition to all other remedies available at law or equity.',\n",
       "  'y_hat': [0.0, 0.0, 0.0, 1.0, 0.0]},\n",
       " {'sentence': 'In the event of litigation relating to this letter, if a court of competent jurisdiction determines that any party, or its directors, officers, partners, members, employees or agents have breached this letter then the breaching party shall be liable and pay to the non-breaching party the reasonable legal fees incurred by the non- breaching party in connection with such litigation, including an appeal therefrom.',\n",
       "  'y_hat': [0.0, 0.0, 0.0, 1.0, 0.0]},\n",
       " {'sentence': '12.', 'y_hat': [0.0, 0.0, 0.0, 1.0, 0.0]},\n",
       " {'sentence': 'Notice: All notices to Purchaser shall be addressed as follows: Interstate Equities Corporation 4970 El Camino Real #220 Los Altos, CA.',\n",
       "  'y_hat': [0.0, 0.0, 0.0, 1.0, 0.0]},\n",
       " {'sentence': '94022 Attention: Marshall Boyd The terms and provisions set forth in this Letter of Intent, together with other terms and provisions relating to this transaction, shall be set forth more completely in the Purchase Agreement and each party hereby agrees to diligently proceed with the negotiation, preparation and execution of such an agreement.',\n",
       "  'y_hat': [0.0, 0.0, 0.0, 1.0, 0.0]},\n",
       " {'sentence': 'If these terms are agreeable, please execute your acceptance below.',\n",
       "  'y_hat': [0.0, 0.0, 0.0, 1.0, 0.0]},\n",
       " {'sentence': 'In the event Purchaser does not receive a copy of this Letter of Intent signed by Seller within 5 days of its date, it shall be deemed null and void.',\n",
       "  'y_hat': [0.0, 0.0, 0.0, 1.0, 0.0]},\n",
       " {'sentence': 'Sincerely, : 04/11/2019 President ACCEPTED AND AGREED TO this day of , 2019: By: Title: Page 3 of 3',\n",
       "  'y_hat': [0.0, 0.0, 0.0, 1.0, 0.0]}]"
      ]
     },
     "execution_count": 194,
     "metadata": {},
     "output_type": "execute_result"
    }
   ],
   "source": [
    "import joblib\n",
    "model = joblib.load(\"../ml/models/sentence_model.joblib\")\n",
    "\n",
    "test = nltk.sent_tokenize(test_raw[0][1])\n",
    "\n",
    "list(({\"sentence\": row[0], \"y_hat\": row[1]} for row in zip(test, model.predict_proba(test).round(3).tolist())))"
   ]
  },
  {
   "cell_type": "code",
   "execution_count": 52,
   "metadata": {},
   "outputs": [
    {
     "name": "stderr",
     "output_type": "stream",
     "text": [
      "[nltk_data] Downloading package punkt to\n",
      "[nltk_data]     /Users/david.yerrington/nltk_data...\n",
      "[nltk_data]   Unzipping tokenizers/punkt.zip.\n"
     ]
    },
    {
     "data": {
      "text/plain": [
       "True"
      ]
     },
     "execution_count": 52,
     "metadata": {},
     "output_type": "execute_result"
    }
   ],
   "source": [
    "nltk.download('punkt')"
   ]
  },
  {
   "cell_type": "code",
   "execution_count": 53,
   "metadata": {},
   "outputs": [
    {
     "ename": "TypeError",
     "evalue": "expected string or bytes-like object",
     "output_type": "error",
     "traceback": [
      "\u001b[0;31m---------------------------------------------------------------------------\u001b[0m",
      "\u001b[0;31mTypeError\u001b[0m                                 Traceback (most recent call last)",
      "\u001b[0;32m<ipython-input-53-4deb876f9fc2>\u001b[0m in \u001b[0;36m<module>\u001b[0;34m\u001b[0m\n\u001b[1;32m     10\u001b[0m \u001b[0;34m\u001b[0m\u001b[0m\n\u001b[1;32m     11\u001b[0m \u001b[0mst\u001b[0m \u001b[0;34m=\u001b[0m \u001b[0mSentenceTokenizer\u001b[0m\u001b[0;34m(\u001b[0m\u001b[0;34m)\u001b[0m\u001b[0;34m\u001b[0m\u001b[0;34m\u001b[0m\u001b[0m\n\u001b[0;32m---> 12\u001b[0;31m \u001b[0mst\u001b[0m\u001b[0;34m.\u001b[0m\u001b[0mtransform\u001b[0m\u001b[0;34m(\u001b[0m\u001b[0mtest\u001b[0m\u001b[0;34m)\u001b[0m\u001b[0;34m\u001b[0m\u001b[0;34m\u001b[0m\u001b[0m\n\u001b[0m",
      "\u001b[0;32m<ipython-input-53-4deb876f9fc2>\u001b[0m in \u001b[0;36mtransform\u001b[0;34m(self, X, y)\u001b[0m\n\u001b[1;32m      7\u001b[0m \u001b[0;34m\u001b[0m\u001b[0m\n\u001b[1;32m      8\u001b[0m     \u001b[0;32mdef\u001b[0m \u001b[0mtransform\u001b[0m\u001b[0;34m(\u001b[0m\u001b[0mself\u001b[0m\u001b[0;34m,\u001b[0m \u001b[0mX\u001b[0m\u001b[0;34m,\u001b[0m \u001b[0my\u001b[0m\u001b[0;34m=\u001b[0m\u001b[0;32mNone\u001b[0m\u001b[0;34m)\u001b[0m\u001b[0;34m:\u001b[0m\u001b[0;34m\u001b[0m\u001b[0;34m\u001b[0m\u001b[0m\n\u001b[0;32m----> 9\u001b[0;31m         \u001b[0;32mreturn\u001b[0m \u001b[0mnltk\u001b[0m\u001b[0;34m.\u001b[0m\u001b[0msent_tokenize\u001b[0m\u001b[0;34m(\u001b[0m\u001b[0mX\u001b[0m\u001b[0;34m)\u001b[0m\u001b[0;34m\u001b[0m\u001b[0;34m\u001b[0m\u001b[0m\n\u001b[0m\u001b[1;32m     10\u001b[0m \u001b[0;34m\u001b[0m\u001b[0m\n\u001b[1;32m     11\u001b[0m \u001b[0mst\u001b[0m \u001b[0;34m=\u001b[0m \u001b[0mSentenceTokenizer\u001b[0m\u001b[0;34m(\u001b[0m\u001b[0;34m)\u001b[0m\u001b[0;34m\u001b[0m\u001b[0;34m\u001b[0m\u001b[0m\n",
      "\u001b[0;32m~/anaconda3/envs/mediblocks/lib/python3.8/site-packages/nltk/tokenize/__init__.py\u001b[0m in \u001b[0;36msent_tokenize\u001b[0;34m(text, language)\u001b[0m\n\u001b[1;32m    105\u001b[0m     \"\"\"\n\u001b[1;32m    106\u001b[0m     \u001b[0mtokenizer\u001b[0m \u001b[0;34m=\u001b[0m \u001b[0mload\u001b[0m\u001b[0;34m(\u001b[0m\u001b[0;34m\"tokenizers/punkt/{0}.pickle\"\u001b[0m\u001b[0;34m.\u001b[0m\u001b[0mformat\u001b[0m\u001b[0;34m(\u001b[0m\u001b[0mlanguage\u001b[0m\u001b[0;34m)\u001b[0m\u001b[0;34m)\u001b[0m\u001b[0;34m\u001b[0m\u001b[0;34m\u001b[0m\u001b[0m\n\u001b[0;32m--> 107\u001b[0;31m     \u001b[0;32mreturn\u001b[0m \u001b[0mtokenizer\u001b[0m\u001b[0;34m.\u001b[0m\u001b[0mtokenize\u001b[0m\u001b[0;34m(\u001b[0m\u001b[0mtext\u001b[0m\u001b[0;34m)\u001b[0m\u001b[0;34m\u001b[0m\u001b[0;34m\u001b[0m\u001b[0m\n\u001b[0m\u001b[1;32m    108\u001b[0m \u001b[0;34m\u001b[0m\u001b[0m\n\u001b[1;32m    109\u001b[0m \u001b[0;34m\u001b[0m\u001b[0m\n",
      "\u001b[0;32m~/anaconda3/envs/mediblocks/lib/python3.8/site-packages/nltk/tokenize/punkt.py\u001b[0m in \u001b[0;36mtokenize\u001b[0;34m(self, text, realign_boundaries)\u001b[0m\n\u001b[1;32m   1270\u001b[0m         \u001b[0mGiven\u001b[0m \u001b[0ma\u001b[0m \u001b[0mtext\u001b[0m\u001b[0;34m,\u001b[0m \u001b[0mreturns\u001b[0m \u001b[0ma\u001b[0m \u001b[0mlist\u001b[0m \u001b[0mof\u001b[0m \u001b[0mthe\u001b[0m \u001b[0msentences\u001b[0m \u001b[0;32min\u001b[0m \u001b[0mthat\u001b[0m \u001b[0mtext\u001b[0m\u001b[0;34m.\u001b[0m\u001b[0;34m\u001b[0m\u001b[0;34m\u001b[0m\u001b[0m\n\u001b[1;32m   1271\u001b[0m         \"\"\"\n\u001b[0;32m-> 1272\u001b[0;31m         \u001b[0;32mreturn\u001b[0m \u001b[0mlist\u001b[0m\u001b[0;34m(\u001b[0m\u001b[0mself\u001b[0m\u001b[0;34m.\u001b[0m\u001b[0msentences_from_text\u001b[0m\u001b[0;34m(\u001b[0m\u001b[0mtext\u001b[0m\u001b[0;34m,\u001b[0m \u001b[0mrealign_boundaries\u001b[0m\u001b[0;34m)\u001b[0m\u001b[0;34m)\u001b[0m\u001b[0;34m\u001b[0m\u001b[0;34m\u001b[0m\u001b[0m\n\u001b[0m\u001b[1;32m   1273\u001b[0m \u001b[0;34m\u001b[0m\u001b[0m\n\u001b[1;32m   1274\u001b[0m     \u001b[0;32mdef\u001b[0m \u001b[0mdebug_decisions\u001b[0m\u001b[0;34m(\u001b[0m\u001b[0mself\u001b[0m\u001b[0;34m,\u001b[0m \u001b[0mtext\u001b[0m\u001b[0;34m)\u001b[0m\u001b[0;34m:\u001b[0m\u001b[0;34m\u001b[0m\u001b[0;34m\u001b[0m\u001b[0m\n",
      "\u001b[0;32m~/anaconda3/envs/mediblocks/lib/python3.8/site-packages/nltk/tokenize/punkt.py\u001b[0m in \u001b[0;36msentences_from_text\u001b[0;34m(self, text, realign_boundaries)\u001b[0m\n\u001b[1;32m   1324\u001b[0m         \u001b[0mfollows\u001b[0m \u001b[0mthe\u001b[0m \u001b[0mperiod\u001b[0m\u001b[0;34m.\u001b[0m\u001b[0;34m\u001b[0m\u001b[0;34m\u001b[0m\u001b[0m\n\u001b[1;32m   1325\u001b[0m         \"\"\"\n\u001b[0;32m-> 1326\u001b[0;31m         \u001b[0;32mreturn\u001b[0m \u001b[0;34m[\u001b[0m\u001b[0mtext\u001b[0m\u001b[0;34m[\u001b[0m\u001b[0ms\u001b[0m\u001b[0;34m:\u001b[0m\u001b[0me\u001b[0m\u001b[0;34m]\u001b[0m \u001b[0;32mfor\u001b[0m \u001b[0ms\u001b[0m\u001b[0;34m,\u001b[0m \u001b[0me\u001b[0m \u001b[0;32min\u001b[0m \u001b[0mself\u001b[0m\u001b[0;34m.\u001b[0m\u001b[0mspan_tokenize\u001b[0m\u001b[0;34m(\u001b[0m\u001b[0mtext\u001b[0m\u001b[0;34m,\u001b[0m \u001b[0mrealign_boundaries\u001b[0m\u001b[0;34m)\u001b[0m\u001b[0;34m]\u001b[0m\u001b[0;34m\u001b[0m\u001b[0;34m\u001b[0m\u001b[0m\n\u001b[0m\u001b[1;32m   1327\u001b[0m \u001b[0;34m\u001b[0m\u001b[0m\n\u001b[1;32m   1328\u001b[0m     \u001b[0;32mdef\u001b[0m \u001b[0m_slices_from_text\u001b[0m\u001b[0;34m(\u001b[0m\u001b[0mself\u001b[0m\u001b[0;34m,\u001b[0m \u001b[0mtext\u001b[0m\u001b[0;34m)\u001b[0m\u001b[0;34m:\u001b[0m\u001b[0;34m\u001b[0m\u001b[0;34m\u001b[0m\u001b[0m\n",
      "\u001b[0;32m~/anaconda3/envs/mediblocks/lib/python3.8/site-packages/nltk/tokenize/punkt.py\u001b[0m in \u001b[0;36m<listcomp>\u001b[0;34m(.0)\u001b[0m\n\u001b[1;32m   1324\u001b[0m         \u001b[0mfollows\u001b[0m \u001b[0mthe\u001b[0m \u001b[0mperiod\u001b[0m\u001b[0;34m.\u001b[0m\u001b[0;34m\u001b[0m\u001b[0;34m\u001b[0m\u001b[0m\n\u001b[1;32m   1325\u001b[0m         \"\"\"\n\u001b[0;32m-> 1326\u001b[0;31m         \u001b[0;32mreturn\u001b[0m \u001b[0;34m[\u001b[0m\u001b[0mtext\u001b[0m\u001b[0;34m[\u001b[0m\u001b[0ms\u001b[0m\u001b[0;34m:\u001b[0m\u001b[0me\u001b[0m\u001b[0;34m]\u001b[0m \u001b[0;32mfor\u001b[0m \u001b[0ms\u001b[0m\u001b[0;34m,\u001b[0m \u001b[0me\u001b[0m \u001b[0;32min\u001b[0m \u001b[0mself\u001b[0m\u001b[0;34m.\u001b[0m\u001b[0mspan_tokenize\u001b[0m\u001b[0;34m(\u001b[0m\u001b[0mtext\u001b[0m\u001b[0;34m,\u001b[0m \u001b[0mrealign_boundaries\u001b[0m\u001b[0;34m)\u001b[0m\u001b[0;34m]\u001b[0m\u001b[0;34m\u001b[0m\u001b[0;34m\u001b[0m\u001b[0m\n\u001b[0m\u001b[1;32m   1327\u001b[0m \u001b[0;34m\u001b[0m\u001b[0m\n\u001b[1;32m   1328\u001b[0m     \u001b[0;32mdef\u001b[0m \u001b[0m_slices_from_text\u001b[0m\u001b[0;34m(\u001b[0m\u001b[0mself\u001b[0m\u001b[0;34m,\u001b[0m \u001b[0mtext\u001b[0m\u001b[0;34m)\u001b[0m\u001b[0;34m:\u001b[0m\u001b[0;34m\u001b[0m\u001b[0;34m\u001b[0m\u001b[0m\n",
      "\u001b[0;32m~/anaconda3/envs/mediblocks/lib/python3.8/site-packages/nltk/tokenize/punkt.py\u001b[0m in \u001b[0;36mspan_tokenize\u001b[0;34m(self, text, realign_boundaries)\u001b[0m\n\u001b[1;32m   1314\u001b[0m         \u001b[0;32mif\u001b[0m \u001b[0mrealign_boundaries\u001b[0m\u001b[0;34m:\u001b[0m\u001b[0;34m\u001b[0m\u001b[0;34m\u001b[0m\u001b[0m\n\u001b[1;32m   1315\u001b[0m             \u001b[0mslices\u001b[0m \u001b[0;34m=\u001b[0m \u001b[0mself\u001b[0m\u001b[0;34m.\u001b[0m\u001b[0m_realign_boundaries\u001b[0m\u001b[0;34m(\u001b[0m\u001b[0mtext\u001b[0m\u001b[0;34m,\u001b[0m \u001b[0mslices\u001b[0m\u001b[0;34m)\u001b[0m\u001b[0;34m\u001b[0m\u001b[0;34m\u001b[0m\u001b[0m\n\u001b[0;32m-> 1316\u001b[0;31m         \u001b[0;32mfor\u001b[0m \u001b[0msl\u001b[0m \u001b[0;32min\u001b[0m \u001b[0mslices\u001b[0m\u001b[0;34m:\u001b[0m\u001b[0;34m\u001b[0m\u001b[0;34m\u001b[0m\u001b[0m\n\u001b[0m\u001b[1;32m   1317\u001b[0m             \u001b[0;32myield\u001b[0m \u001b[0;34m(\u001b[0m\u001b[0msl\u001b[0m\u001b[0;34m.\u001b[0m\u001b[0mstart\u001b[0m\u001b[0;34m,\u001b[0m \u001b[0msl\u001b[0m\u001b[0;34m.\u001b[0m\u001b[0mstop\u001b[0m\u001b[0;34m)\u001b[0m\u001b[0;34m\u001b[0m\u001b[0;34m\u001b[0m\u001b[0m\n\u001b[1;32m   1318\u001b[0m \u001b[0;34m\u001b[0m\u001b[0m\n",
      "\u001b[0;32m~/anaconda3/envs/mediblocks/lib/python3.8/site-packages/nltk/tokenize/punkt.py\u001b[0m in \u001b[0;36m_realign_boundaries\u001b[0;34m(self, text, slices)\u001b[0m\n\u001b[1;32m   1355\u001b[0m         \"\"\"\n\u001b[1;32m   1356\u001b[0m         \u001b[0mrealign\u001b[0m \u001b[0;34m=\u001b[0m \u001b[0;36m0\u001b[0m\u001b[0;34m\u001b[0m\u001b[0;34m\u001b[0m\u001b[0m\n\u001b[0;32m-> 1357\u001b[0;31m         \u001b[0;32mfor\u001b[0m \u001b[0msl1\u001b[0m\u001b[0;34m,\u001b[0m \u001b[0msl2\u001b[0m \u001b[0;32min\u001b[0m \u001b[0m_pair_iter\u001b[0m\u001b[0;34m(\u001b[0m\u001b[0mslices\u001b[0m\u001b[0;34m)\u001b[0m\u001b[0;34m:\u001b[0m\u001b[0;34m\u001b[0m\u001b[0;34m\u001b[0m\u001b[0m\n\u001b[0m\u001b[1;32m   1358\u001b[0m             \u001b[0msl1\u001b[0m \u001b[0;34m=\u001b[0m \u001b[0mslice\u001b[0m\u001b[0;34m(\u001b[0m\u001b[0msl1\u001b[0m\u001b[0;34m.\u001b[0m\u001b[0mstart\u001b[0m \u001b[0;34m+\u001b[0m \u001b[0mrealign\u001b[0m\u001b[0;34m,\u001b[0m \u001b[0msl1\u001b[0m\u001b[0;34m.\u001b[0m\u001b[0mstop\u001b[0m\u001b[0;34m)\u001b[0m\u001b[0;34m\u001b[0m\u001b[0;34m\u001b[0m\u001b[0m\n\u001b[1;32m   1359\u001b[0m             \u001b[0;32mif\u001b[0m \u001b[0;32mnot\u001b[0m \u001b[0msl2\u001b[0m\u001b[0;34m:\u001b[0m\u001b[0;34m\u001b[0m\u001b[0;34m\u001b[0m\u001b[0m\n",
      "\u001b[0;32m~/anaconda3/envs/mediblocks/lib/python3.8/site-packages/nltk/tokenize/punkt.py\u001b[0m in \u001b[0;36m_pair_iter\u001b[0;34m(it)\u001b[0m\n\u001b[1;32m    312\u001b[0m     \u001b[0mit\u001b[0m \u001b[0;34m=\u001b[0m \u001b[0miter\u001b[0m\u001b[0;34m(\u001b[0m\u001b[0mit\u001b[0m\u001b[0;34m)\u001b[0m\u001b[0;34m\u001b[0m\u001b[0;34m\u001b[0m\u001b[0m\n\u001b[1;32m    313\u001b[0m     \u001b[0;32mtry\u001b[0m\u001b[0;34m:\u001b[0m\u001b[0;34m\u001b[0m\u001b[0;34m\u001b[0m\u001b[0m\n\u001b[0;32m--> 314\u001b[0;31m         \u001b[0mprev\u001b[0m \u001b[0;34m=\u001b[0m \u001b[0mnext\u001b[0m\u001b[0;34m(\u001b[0m\u001b[0mit\u001b[0m\u001b[0;34m)\u001b[0m\u001b[0;34m\u001b[0m\u001b[0;34m\u001b[0m\u001b[0m\n\u001b[0m\u001b[1;32m    315\u001b[0m     \u001b[0;32mexcept\u001b[0m \u001b[0mStopIteration\u001b[0m\u001b[0;34m:\u001b[0m\u001b[0;34m\u001b[0m\u001b[0;34m\u001b[0m\u001b[0m\n\u001b[1;32m    316\u001b[0m         \u001b[0;32mreturn\u001b[0m\u001b[0;34m\u001b[0m\u001b[0;34m\u001b[0m\u001b[0m\n",
      "\u001b[0;32m~/anaconda3/envs/mediblocks/lib/python3.8/site-packages/nltk/tokenize/punkt.py\u001b[0m in \u001b[0;36m_slices_from_text\u001b[0;34m(self, text)\u001b[0m\n\u001b[1;32m   1328\u001b[0m     \u001b[0;32mdef\u001b[0m \u001b[0m_slices_from_text\u001b[0m\u001b[0;34m(\u001b[0m\u001b[0mself\u001b[0m\u001b[0;34m,\u001b[0m \u001b[0mtext\u001b[0m\u001b[0;34m)\u001b[0m\u001b[0;34m:\u001b[0m\u001b[0;34m\u001b[0m\u001b[0;34m\u001b[0m\u001b[0m\n\u001b[1;32m   1329\u001b[0m         \u001b[0mlast_break\u001b[0m \u001b[0;34m=\u001b[0m \u001b[0;36m0\u001b[0m\u001b[0;34m\u001b[0m\u001b[0;34m\u001b[0m\u001b[0m\n\u001b[0;32m-> 1330\u001b[0;31m         \u001b[0;32mfor\u001b[0m \u001b[0mmatch\u001b[0m \u001b[0;32min\u001b[0m \u001b[0mself\u001b[0m\u001b[0;34m.\u001b[0m\u001b[0m_lang_vars\u001b[0m\u001b[0;34m.\u001b[0m\u001b[0mperiod_context_re\u001b[0m\u001b[0;34m(\u001b[0m\u001b[0;34m)\u001b[0m\u001b[0;34m.\u001b[0m\u001b[0mfinditer\u001b[0m\u001b[0;34m(\u001b[0m\u001b[0mtext\u001b[0m\u001b[0;34m)\u001b[0m\u001b[0;34m:\u001b[0m\u001b[0;34m\u001b[0m\u001b[0;34m\u001b[0m\u001b[0m\n\u001b[0m\u001b[1;32m   1331\u001b[0m             \u001b[0mcontext\u001b[0m \u001b[0;34m=\u001b[0m \u001b[0mmatch\u001b[0m\u001b[0;34m.\u001b[0m\u001b[0mgroup\u001b[0m\u001b[0;34m(\u001b[0m\u001b[0;34m)\u001b[0m \u001b[0;34m+\u001b[0m \u001b[0mmatch\u001b[0m\u001b[0;34m.\u001b[0m\u001b[0mgroup\u001b[0m\u001b[0;34m(\u001b[0m\u001b[0;34m\"after_tok\"\u001b[0m\u001b[0;34m)\u001b[0m\u001b[0;34m\u001b[0m\u001b[0;34m\u001b[0m\u001b[0m\n\u001b[1;32m   1332\u001b[0m             \u001b[0;32mif\u001b[0m \u001b[0mself\u001b[0m\u001b[0;34m.\u001b[0m\u001b[0mtext_contains_sentbreak\u001b[0m\u001b[0;34m(\u001b[0m\u001b[0mcontext\u001b[0m\u001b[0;34m)\u001b[0m\u001b[0;34m:\u001b[0m\u001b[0;34m\u001b[0m\u001b[0;34m\u001b[0m\u001b[0m\n",
      "\u001b[0;31mTypeError\u001b[0m: expected string or bytes-like object"
     ]
    }
   ],
   "source": [
    "from sklearn.base import BaseEstimator, TransformerMixin\n",
    "import nltk\n",
    "\n",
    "class SentenceTokenizer(BaseEstimator, TransformerMixin):\n",
    "    def fit(self, X, y=None):\n",
    "        return self\n",
    "\n",
    "    def transform(self, X, y=None):\n",
    "        for index, document, text in X.to_records():\n",
    "            for sentence in nltk.sent_tokenize(text):\n",
    "                doc_sentences.append((document, sentence))\n",
    "        return nltk.sent_tokenize(X)\n",
    "    \n",
    "st = SentenceTokenizer()\n",
    "st.transform(test)\n"
   ]
  },
  {
   "cell_type": "markdown",
   "metadata": {},
   "source": [
    "### Pipeline\n",
    "\n",
    "- Transform input so text can be modeled\n",
    "- Fit model\n",
    "\n",
    ">  This section can be run with different models by commenting / uncommenting the \"model\" step."
   ]
  },
  {
   "cell_type": "code",
   "execution_count": null,
   "metadata": {},
   "outputs": [],
   "source": []
  },
  {
   "cell_type": "code",
   "execution_count": 21,
   "metadata": {},
   "outputs": [],
   "source": [
    "steps = [\n",
    "    ('vectorizer', CountVectorizer()),\n",
    "    ('model', LogisticRegressionCV(max_iter = 2000, multi_class = 'ovr', cv = 3))\n",
    "    # ('model', SGDClassifier(loss = 'log'))\n",
    "    # ('model', RandomForestClassifier())\n",
    "    # ('model', MLPClassifier()) \n",
    "]\n",
    "\n",
    "pipe = Pipeline(steps = steps)\n",
    "\n",
    "## Fit model on core dataset with no sampling\n",
    "pipe_model = pipe.fit(df['sentence'], y_encoded)"
   ]
  },
  {
   "cell_type": "markdown",
   "metadata": {},
   "source": [
    "### Overall Accuracy with a basic logistic model is 99%\n",
    "\n",
    "However, baseline accuracy of our primarily class is only .02.  We will have to examine other metrics for misclassification performance."
   ]
  },
  {
   "cell_type": "code",
   "execution_count": 22,
   "metadata": {},
   "outputs": [
    {
     "data": {
      "text/plain": [
       "0.998330550918197"
      ]
     },
     "execution_count": 22,
     "metadata": {},
     "output_type": "execute_result"
    }
   ],
   "source": [
    "pipe_model.score(df['sentence'], y_encoded)"
   ]
  },
  {
   "cell_type": "code",
   "execution_count": 23,
   "metadata": {},
   "outputs": [],
   "source": [
    "# Predicted classes\n",
    "y_hat       = pipe_model.predict(df['sentence'])\n",
    "y_hat_train = pipe_model.predict(X_train['sentence'])         ## Don't forget to train on this dataset as well\n",
    "y_hat_test  = pipe_model.predict(X_test['sentence'])\n",
    "\n",
    "# Predicted class probabilities\n",
    "y_hat_prob         = pipe_model.predict_proba(df['sentence'])\n",
    "y_hat_train_proba  = pipe_model.predict_proba(X_train['sentence']) \n",
    "y_hat_test_proba   = pipe_model.predict_proba(X_test['sentence'])"
   ]
  },
  {
   "cell_type": "markdown",
   "metadata": {},
   "source": [
    "### Class ROC Curves"
   ]
  },
  {
   "cell_type": "code",
   "execution_count": 24,
   "metadata": {},
   "outputs": [
    {
     "data": {
      "text/plain": [
       "none              18636\n",
       "deposit             519\n",
       "purchase_price      332\n",
       "closing             149\n",
       "dd                  131\n",
       "Name: target_class, dtype: int64"
      ]
     },
     "execution_count": 24,
     "metadata": {},
     "output_type": "execute_result"
    }
   ],
   "source": [
    "df['target_class'].value_counts()"
   ]
  },
  {
   "cell_type": "code",
   "execution_count": 25,
   "metadata": {},
   "outputs": [
    {
     "data": {
      "image/png": "[encoded data removed]",
      "text/plain": [
       "<Figure size 1080x360 with 3 Axes>"
      ]
     },
     "metadata": {
      "needs_background": "light"
     },
     "output_type": "display_data"
    }
   ],
   "source": [
    "## Line color config\n",
    "default_cycler = (cycler(color=['red', 'green', 'blue', 'brown', 'magenta']) + \n",
    "                  cycler(linestyle=['-', '--', ':', '-.', '-']))\n",
    "\n",
    "plt.rc('axes', prop_cycle = default_cycler)\n",
    "\n",
    "fig, ax = plt.subplots(nrows = 1, ncols = 3, figsize = (15, 5))\n",
    "ax = ax.ravel()\n",
    "\n",
    "## Plotting with different datasets\n",
    "datasets = [\n",
    "    dict(\n",
    "        name                = \"original\",\n",
    "        y                   = y_encoded,\n",
    "        y_hat               = pipe_model.predict(df['sentence']),\n",
    "        y_hat_probabilities = pipe_model.predict_proba(df['sentence'])\n",
    "    ),\n",
    "    dict(\n",
    "        name                = \"train\",\n",
    "        y                   = y_train,\n",
    "        y_hat               = pipe_model.predict(X_train['sentence']),\n",
    "        y_hat_probabilities = pipe_model.predict_proba(X_train['sentence'])\n",
    "    ),\n",
    "    dict(\n",
    "        name                = \"test\",\n",
    "        y                   = y_test,\n",
    "        y_hat               = pipe_model.predict(X_test['sentence']),\n",
    "        y_hat_probabilities = pipe_model.predict_proba(X_test['sentence'])\n",
    "    ),\n",
    "]\n",
    "\n",
    "for index, data in enumerate(datasets):\n",
    "    ## Set confusion metrics per class\n",
    "    fpr, tpr, thresh = {}, {}, {}\n",
    "    for class_index, class_name in enumerate(encoder.classes_):\n",
    "        fpr, tpr, threshold = roc_curve(\n",
    "            data['y'], data['y_hat_probabilities'][:,index], \n",
    "            pos_label = class_index\n",
    "        )\n",
    "        ax[index].plot(fpr, tpr, label = f\"Class - {class_name}\")\n",
    "        ax[index].set_title(f\"Multiclass ROC curve - {data['name']}\")\n",
    "        ax[index].set_xlabel('False Positive Rate')\n",
    "        ax[index].set_ylabel('True Positive rate')\n",
    "        ax[index].legend(loc='best')\n"
   ]
  },
  {
   "cell_type": "markdown",
   "metadata": {},
   "source": [
    "## Evalutation\n",
    "\n",
    "### Precision (specificity), Recall (sensitivity), F1 (Harmonic Mean of precision and recall)"
   ]
  },
  {
   "cell_type": "code",
   "execution_count": 26,
   "metadata": {},
   "outputs": [
    {
     "name": "stdout",
     "output_type": "stream",
     "text": [
      "Original Data\n",
      "--------------------------------------------------------\n",
      "                 precision    recall  f1-score   support\n",
      "\n",
      "       closing       1.00      0.99      0.99       149\n",
      "            dd       0.99      0.94      0.96       131\n",
      "       deposit       0.98      0.97      0.98       519\n",
      "          none       1.00      1.00      1.00     18636\n",
      "purchase_price       1.00      1.00      1.00       332\n",
      "\n",
      "      accuracy                           1.00     19767\n",
      "     macro avg       0.99      0.98      0.99     19767\n",
      "  weighted avg       1.00      1.00      1.00     19767\n",
      " \n",
      "\n",
      "\n",
      "Train Data\n",
      "--------------------------------------------------------\n",
      "                 precision    recall  f1-score   support\n",
      "\n",
      "       closing       1.00      0.98      0.99       108\n",
      "            dd       0.99      0.95      0.97        95\n",
      "       deposit       0.98      0.98      0.98       369\n",
      "          none       1.00      1.00      1.00     13031\n",
      "purchase_price       1.00      1.00      1.00       233\n",
      "\n",
      "      accuracy                           1.00     13836\n",
      "     macro avg       0.99      0.98      0.99     13836\n",
      "  weighted avg       1.00      1.00      1.00     13836\n",
      " \n",
      "\n",
      "\n",
      "Test Data\n",
      "--------------------------------------------------------\n",
      "                 precision    recall  f1-score   support\n",
      "\n",
      "       closing       1.00      1.00      1.00        41\n",
      "            dd       1.00      0.92      0.96        36\n",
      "       deposit       0.99      0.97      0.98       150\n",
      "          none       1.00      1.00      1.00      5605\n",
      "purchase_price       1.00      1.00      1.00        99\n",
      "\n",
      "      accuracy                           1.00      5931\n",
      "     macro avg       1.00      0.98      0.99      5931\n",
      "  weighted avg       1.00      1.00      1.00      5931\n",
      " \n",
      "\n",
      "\n"
     ]
    }
   ],
   "source": [
    "get_reports = lambda: \\\n",
    "    {\n",
    "        data['name']: classification_report(\n",
    "            data['y'], \n",
    "            data['y_hat'],\n",
    "            target_names = encoder.classes_\n",
    "        ) for index, data in enumerate(datasets)\n",
    "    }\n",
    "reports = get_reports()\n",
    "\n",
    "print(\"Original Data\\n--------------------------------------------------------\\n\", reports['original'], \"\\n\\n\")\n",
    "print(\"Train Data\\n--------------------------------------------------------\\n\", reports['train'], \"\\n\\n\")\n",
    "print(\"Test Data\\n--------------------------------------------------------\\n\", reports['test'], \"\\n\\n\")"
   ]
  },
  {
   "cell_type": "markdown",
   "metadata": {},
   "source": [
    "### Model Inference (Logistic model only)"
   ]
  },
  {
   "cell_type": "code",
   "execution_count": 27,
   "metadata": {},
   "outputs": [
    {
     "data": {
      "text/html": [
       "<div>\n",
       "<style scoped>\n",
       "    .dataframe tbody tr th:only-of-type {\n",
       "        vertical-align: middle;\n",
       "    }\n",
       "\n",
       "    .dataframe tbody tr th {\n",
       "        vertical-align: top;\n",
       "    }\n",
       "\n",
       "    .dataframe thead th {\n",
       "        text-align: right;\n",
       "    }\n",
       "</style>\n",
       "<table border=\"1\" class=\"dataframe\">\n",
       "  <thead>\n",
       "    <tr style=\"text-align: right;\">\n",
       "      <th></th>\n",
       "      <th>00</th>\n",
       "      <th>000</th>\n",
       "      <th>00000</th>\n",
       "      <th>000115004300</th>\n",
       "      <th>0004</th>\n",
       "      <th>0006</th>\n",
       "      <th>00065</th>\n",
       "      <th>000f3diershaﬂﬁeﬁvmhemypmtyﬁee</th>\n",
       "      <th>000i</th>\n",
       "      <th>000in</th>\n",
       "      <th>...</th>\n",
       "      <th>ﬂora</th>\n",
       "      <th>ﬂoss</th>\n",
       "      <th>ﬂow</th>\n",
       "      <th>ﬂré5</th>\n",
       "      <th>ﬂus</th>\n",
       "      <th>ﬂymxorl</th>\n",
       "      <th>ﬂz</th>\n",
       "      <th>ﬂé</th>\n",
       "      <th>ﬂﬂ</th>\n",
       "      <th>ﬂﬂﬂ</th>\n",
       "    </tr>\n",
       "  </thead>\n",
       "  <tbody>\n",
       "    <tr>\n",
       "      <th>closing</th>\n",
       "      <td>-0.870436</td>\n",
       "      <td>0.177958</td>\n",
       "      <td>-0.001024</td>\n",
       "      <td>1.989105e-01</td>\n",
       "      <td>-0.000021</td>\n",
       "      <td>-0.000301</td>\n",
       "      <td>-0.000236</td>\n",
       "      <td>-6.353283e-04</td>\n",
       "      <td>-0.000072</td>\n",
       "      <td>-3.055121e-09</td>\n",
       "      <td>...</td>\n",
       "      <td>-0.000104</td>\n",
       "      <td>-0.000018</td>\n",
       "      <td>-0.002817</td>\n",
       "      <td>-0.000431</td>\n",
       "      <td>-1.127414e-03</td>\n",
       "      <td>-0.000724</td>\n",
       "      <td>-1.131908e-03</td>\n",
       "      <td>-0.000081</td>\n",
       "      <td>-0.000011</td>\n",
       "      <td>-4.255617e-10</td>\n",
       "    </tr>\n",
       "    <tr>\n",
       "      <th>dd</th>\n",
       "      <td>-0.430522</td>\n",
       "      <td>0.202302</td>\n",
       "      <td>-0.000112</td>\n",
       "      <td>-5.206353e-04</td>\n",
       "      <td>-0.000110</td>\n",
       "      <td>-0.000210</td>\n",
       "      <td>-0.000244</td>\n",
       "      <td>-9.551707e-05</td>\n",
       "      <td>-0.000438</td>\n",
       "      <td>-3.045379e-03</td>\n",
       "      <td>...</td>\n",
       "      <td>-0.000003</td>\n",
       "      <td>-0.000148</td>\n",
       "      <td>-0.002582</td>\n",
       "      <td>-0.000297</td>\n",
       "      <td>-5.966191e-04</td>\n",
       "      <td>-0.000299</td>\n",
       "      <td>-4.138822e-03</td>\n",
       "      <td>-0.000313</td>\n",
       "      <td>-0.002149</td>\n",
       "      <td>-8.283932e-06</td>\n",
       "    </tr>\n",
       "    <tr>\n",
       "      <th>deposit</th>\n",
       "      <td>0.217430</td>\n",
       "      <td>1.521982</td>\n",
       "      <td>-0.002109</td>\n",
       "      <td>-2.126874e-02</td>\n",
       "      <td>-0.000062</td>\n",
       "      <td>-0.000482</td>\n",
       "      <td>-0.000339</td>\n",
       "      <td>-6.109805e-04</td>\n",
       "      <td>-0.000133</td>\n",
       "      <td>8.083338e-02</td>\n",
       "      <td>...</td>\n",
       "      <td>-0.000124</td>\n",
       "      <td>-0.000064</td>\n",
       "      <td>-0.000167</td>\n",
       "      <td>-0.000364</td>\n",
       "      <td>-2.093025e-04</td>\n",
       "      <td>-0.000353</td>\n",
       "      <td>-5.153485e-05</td>\n",
       "      <td>-0.000451</td>\n",
       "      <td>-0.000014</td>\n",
       "      <td>-9.466224e-05</td>\n",
       "    </tr>\n",
       "    <tr>\n",
       "      <th>none</th>\n",
       "      <td>-0.547040</td>\n",
       "      <td>-2.461805</td>\n",
       "      <td>-1.619410</td>\n",
       "      <td>-1.446237e-08</td>\n",
       "      <td>0.000051</td>\n",
       "      <td>0.002963</td>\n",
       "      <td>0.001293</td>\n",
       "      <td>2.579422e-03</td>\n",
       "      <td>-0.008233</td>\n",
       "      <td>-2.371467e-01</td>\n",
       "      <td>...</td>\n",
       "      <td>0.000231</td>\n",
       "      <td>0.001444</td>\n",
       "      <td>0.002565</td>\n",
       "      <td>0.001767</td>\n",
       "      <td>2.445696e-03</td>\n",
       "      <td>0.001644</td>\n",
       "      <td>2.530188e-02</td>\n",
       "      <td>0.004212</td>\n",
       "      <td>0.000686</td>\n",
       "      <td>4.322870e-06</td>\n",
       "    </tr>\n",
       "    <tr>\n",
       "      <th>purchase_price</th>\n",
       "      <td>1.332518</td>\n",
       "      <td>3.664503</td>\n",
       "      <td>3.318717</td>\n",
       "      <td>-3.905544e-02</td>\n",
       "      <td>-0.000422</td>\n",
       "      <td>-0.000874</td>\n",
       "      <td>-0.000039</td>\n",
       "      <td>-1.409517e-07</td>\n",
       "      <td>0.013068</td>\n",
       "      <td>-9.510043e-08</td>\n",
       "      <td>...</td>\n",
       "      <td>-0.000718</td>\n",
       "      <td>-0.000004</td>\n",
       "      <td>-0.000320</td>\n",
       "      <td>-0.000148</td>\n",
       "      <td>-6.850217e-07</td>\n",
       "      <td>-0.000088</td>\n",
       "      <td>-4.293209e-07</td>\n",
       "      <td>-0.000058</td>\n",
       "      <td>-0.000096</td>\n",
       "      <td>-1.647807e-06</td>\n",
       "    </tr>\n",
       "  </tbody>\n",
       "</table>\n",
       "<p>5 rows × 13866 columns</p>\n",
       "</div>"
      ],
      "text/plain": [
       "                      00       000     00000  000115004300      0004  \\\n",
       "closing        -0.870436  0.177958 -0.001024  1.989105e-01 -0.000021   \n",
       "dd             -0.430522  0.202302 -0.000112 -5.206353e-04 -0.000110   \n",
       "deposit         0.217430  1.521982 -0.002109 -2.126874e-02 -0.000062   \n",
       "none           -0.547040 -2.461805 -1.619410 -1.446237e-08  0.000051   \n",
       "purchase_price  1.332518  3.664503  3.318717 -3.905544e-02 -0.000422   \n",
       "\n",
       "                    0006     00065  000f3diershaﬂﬁeﬁvmhemypmtyﬁee      000i  \\\n",
       "closing        -0.000301 -0.000236                  -6.353283e-04 -0.000072   \n",
       "dd             -0.000210 -0.000244                  -9.551707e-05 -0.000438   \n",
       "deposit        -0.000482 -0.000339                  -6.109805e-04 -0.000133   \n",
       "none            0.002963  0.001293                   2.579422e-03 -0.008233   \n",
       "purchase_price -0.000874 -0.000039                  -1.409517e-07  0.013068   \n",
       "\n",
       "                       000in  ...      ﬂora      ﬂoss       ﬂow      ﬂré5  \\\n",
       "closing        -3.055121e-09  ... -0.000104 -0.000018 -0.002817 -0.000431   \n",
       "dd             -3.045379e-03  ... -0.000003 -0.000148 -0.002582 -0.000297   \n",
       "deposit         8.083338e-02  ... -0.000124 -0.000064 -0.000167 -0.000364   \n",
       "none           -2.371467e-01  ...  0.000231  0.001444  0.002565  0.001767   \n",
       "purchase_price -9.510043e-08  ... -0.000718 -0.000004 -0.000320 -0.000148   \n",
       "\n",
       "                         ﬂus   ﬂymxorl            ﬂz        ﬂé        ﬂﬂ  \\\n",
       "closing        -1.127414e-03 -0.000724 -1.131908e-03 -0.000081 -0.000011   \n",
       "dd             -5.966191e-04 -0.000299 -4.138822e-03 -0.000313 -0.002149   \n",
       "deposit        -2.093025e-04 -0.000353 -5.153485e-05 -0.000451 -0.000014   \n",
       "none            2.445696e-03  0.001644  2.530188e-02  0.004212  0.000686   \n",
       "purchase_price -6.850217e-07 -0.000088 -4.293209e-07 -0.000058 -0.000096   \n",
       "\n",
       "                         ﬂﬂﬂ  \n",
       "closing        -4.255617e-10  \n",
       "dd             -8.283932e-06  \n",
       "deposit        -9.466224e-05  \n",
       "none            4.322870e-06  \n",
       "purchase_price -1.647807e-06  \n",
       "\n",
       "[5 rows x 13866 columns]"
      ]
     },
     "execution_count": 27,
     "metadata": {},
     "output_type": "execute_result"
    }
   ],
   "source": [
    "## Feature names, words\n",
    "features = pipe_model.named_steps['vectorizer'].get_feature_names()\n",
    "\n",
    "## Coefficients\n",
    "coefs = pipe_model.named_steps['model'].coef_\n",
    "\n",
    "\n",
    "## Combine into dataframe\n",
    "coefs_df = pd.DataFrame(coefs, columns = features, index = encoder.classes_)\n",
    "coefs_df"
   ]
  },
  {
   "cell_type": "markdown",
   "metadata": {},
   "source": [
    "#### Coefs Plot of Top Absolute Values"
   ]
  },
  {
   "cell_type": "code",
   "execution_count": 28,
   "metadata": {},
   "outputs": [
    {
     "data": {
      "image/png": "[encoded data removed]",
      "text/plain": [
       "<Figure size 1080x1080 with 4 Axes>"
      ]
     },
     "metadata": {
      "needs_background": "light"
     },
     "output_type": "display_data"
    }
   ],
   "source": [
    "from matplotlib import style\n",
    "style.use('seaborn-dark-palette')\n",
    "\n",
    "def plot_top_ceofs(index = 'closing', limit = 25, ax = False, color = False):\n",
    "    sorted_index = coefs_df.loc[index].abs().sort_values(ascending = False).head(limit).index\n",
    "    return coefs_df.loc[index][coefs_df.loc[index].index.isin(sorted_index)].plot(\n",
    "        title   = f\"Class '{index}'\",\n",
    "        kind    = \"barh\", \n",
    "        ax      = ax,\n",
    "        color   = color\n",
    "    )\n",
    "\n",
    "fig, ax = plt.subplots(nrows = 1, ncols = 4, figsize = (15, 15))\n",
    "ax = ax.ravel()\n",
    "prop_iter = iter(plt.rcParams['axes.prop_cycle']) # for cycling through colors\n",
    "for index, class_name in enumerate(coefs_df.index[coefs_df.index != \"none\"].tolist()):\n",
    "    plot_top_ceofs(index = class_name, ax = ax[index], color=next(prop_iter)['color'])\n",
    "    \n",
    "plt.tight_layout()"
   ]
  },
  {
   "cell_type": "markdown",
   "metadata": {},
   "source": [
    "### Basic Predict example"
   ]
  },
  {
   "cell_type": "code",
   "execution_count": 31,
   "metadata": {},
   "outputs": [
    {
     "name": "stdin",
     "output_type": "stream",
     "text": [
      "Enter a sentence to classify: Earnest Money Deposit: Within five (5) business days after the full execution of the Purchase Agreement, Purchaser shall deposit with First American Title (the “Escrow Company”) as escrow agent, $5,160,000 to be held by such agent pending the Closing.\n"
     ]
    },
    {
     "name": "stdout",
     "output_type": "stream",
     "text": [
      "Predicted class: deposit\n",
      "Class probabilities:\n",
      "{'closing': 0.0, 'dd': 0.0002, 'deposit': 0.9799, 'none': 0.0199, 'purchase_price': 0.0}\n"
     ]
    }
   ],
   "source": [
    "sentence = input(prompt = \"Enter a sentence to classify:\")\n",
    "prediction = pipe_model.predict([sentence])\n",
    "probas = pipe_model.predict_proba([sentence])\n",
    "print(f\"Predicted class: {encoder.classes_[prediction[0]]}\")\n",
    "print(\"Class probabilities:\")\n",
    "class_probas = {class_name: probas[0][index].round(4) for index, class_name in enumerate(encoder.classes_)}\n",
    "print(class_probas)"
   ]
  },
  {
   "cell_type": "code",
   "execution_count": null,
   "metadata": {},
   "outputs": [],
   "source": []
  }
 ],
 "metadata": {
  "kernelspec": {
   "display_name": "Python 3",
   "language": "python",
   "name": "python3"
  },
  "language_info": {
   "codemirror_mode": {
    "name": "ipython",
    "version": 3
   },
   "file_extension": ".py",
   "mimetype": "text/x-python",
   "name": "python",
   "nbconvert_exporter": "python",
   "pygments_lexer": "ipython3",
   "version": "3.8.5"
  }
 },
 "nbformat": 4,
 "nbformat_minor": 4
}
